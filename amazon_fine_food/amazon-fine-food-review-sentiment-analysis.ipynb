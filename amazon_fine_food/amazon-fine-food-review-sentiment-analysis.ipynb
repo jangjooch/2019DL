{
 "cells": [
  {
   "cell_type": "markdown",
   "metadata": {
    "_cell_guid": "dd1ad847-c6ae-44a4-bbda-ea78d0769190",
    "_uuid": "f458204a207f4d96fe334270ee778e079a1014a2"
   },
   "source": [
    "*Last edit by DLao - 2019*\n",
    "\n",
    "\n",
    "\n",
    "\n",
    "\n",
    "<br>\n",
    "<br>\n",
    "\n",
    "\n",
    "![](http://bathvenuefinder.co.uk/web/wp-content/uploads/2016/02/The-Porter-fine-food.jpg)\n",
    "\n",
    "# Amazon fine food review - Sentiment analysis\n",
    "\n",
    "The analysis is to study Amazon food review from customers, and try to predict whether a review is positive or negative. The dataset contains **more than 500K reviews** with number of upvotes & total votes to those comments.\n",
    "\n",
    "## Table of Content\n",
    "\n",
    "* Data preparation\n",
    "\n",
    "* Score prediction\n",
    "  - Logistic regression model on word count\n",
    "  - Logistic regression model on TFIDF\n",
    "  - Logistic regression model on TFIDF + ngram\n",
    "  \n",
    "* Upvote prediction\n",
    "  - Data preview\n",
    "  - Resampling due to imbalanced data\n",
    "  - Logistic regression model on word count\n",
    "  - Logistic regression model on TFIDF + ngram\n",
    "  - Study on non-context features\n",
    "  \n",
    "* In-depth study on user behaviour *(Edit on 2017/10/18)*\n",
    "  \n",
    "<br>\n",
    "I will keep updating this notebook. Feel free to fork and **Upvote** if you find it useful in some ways!"
   ]
  },
  {
   "cell_type": "markdown",
   "metadata": {
    "_cell_guid": "b875d60b-7d37-4845-bc56-1527988765c6",
    "_uuid": "d5fc32bfdd6b8f35291ddc358df228a064cc1c16"
   },
   "source": [
    "## Data preparation"
   ]
  },
  {
   "cell_type": "markdown",
   "metadata": {
    "_cell_guid": "d1c22d63-35ce-4a7d-b15b-345e6a3e11f4",
    "_uuid": "22b3e2fd24784e7097d12c87f5817bf9bbc6f41c"
   },
   "source": [
    "Let's load some library needed throughout the analysis:"
   ]
  },
  {
   "cell_type": "code",
   "execution_count": 1,
   "metadata": {
    "_cell_guid": "a77dbc40-11a9-42b1-8cbe-5e47757f0ee7",
    "_uuid": "12e6c6dedd58c81029e7ac240d8dbc9c4375e7e6",
    "collapsed": true
   },
   "outputs": [],
   "source": [
    "import pandas as pd\n",
    "import numpy as np\n",
    "import matplotlib.pyplot as plt\n",
    "import seaborn as sns\n",
    "from sklearn.feature_extraction.text import CountVectorizer\n",
    "from sklearn.feature_extraction.text import TfidfVectorizer\n",
    "from sklearn.linear_model import LogisticRegression\n",
    "from sklearn.model_selection import train_test_split\n",
    "from sklearn.dummy import DummyClassifier\n",
    "from string import punctuation\n",
    "from sklearn import svm\n",
    "from nltk.corpus import stopwords\n",
    "from nltk.stem import WordNetLemmatizer\n",
    "import nltk\n",
    "from nltk import ngrams\n",
    "from itertools import chain\n",
    "from wordcloud import WordCloud\n"
   ]
  },
  {
   "cell_type": "markdown",
   "metadata": {
    "_cell_guid": "0e97c861-5ea5-47bc-8b0a-e2fad750b51a",
    "_uuid": "34654f16cb6e425ed285dca51aea0f9a026c7c14"
   },
   "source": [
    "Now we load in the dataset and add some columns for upvote metrics:"
   ]
  },
  {
   "cell_type": "code",
   "execution_count": 2,
   "metadata": {
    "_cell_guid": "9e9eb800-a0b7-4026-944e-a0fbce39a959",
    "_uuid": "f176f9a43baa485feca92e643b24abbea7094a4a",
    "collapsed": true
   },
   "outputs": [
    {
     "data": {
      "text/html": [
       "<div>\n",
       "<style scoped>\n",
       "    .dataframe tbody tr th:only-of-type {\n",
       "        vertical-align: middle;\n",
       "    }\n",
       "\n",
       "    .dataframe tbody tr th {\n",
       "        vertical-align: top;\n",
       "    }\n",
       "\n",
       "    .dataframe thead th {\n",
       "        text-align: right;\n",
       "    }\n",
       "</style>\n",
       "<table border=\"1\" class=\"dataframe\">\n",
       "  <thead>\n",
       "    <tr style=\"text-align: right;\">\n",
       "      <th></th>\n",
       "      <th>Id</th>\n",
       "      <th>ProductId</th>\n",
       "      <th>UserId</th>\n",
       "      <th>ProfileName</th>\n",
       "      <th>HelpfulnessNumerator</th>\n",
       "      <th>HelpfulnessDenominator</th>\n",
       "      <th>Score</th>\n",
       "      <th>Time</th>\n",
       "      <th>Summary</th>\n",
       "      <th>Text</th>\n",
       "      <th>Helpful %</th>\n",
       "      <th>% Upvote</th>\n",
       "    </tr>\n",
       "  </thead>\n",
       "  <tbody>\n",
       "    <tr>\n",
       "      <th>0</th>\n",
       "      <td>1</td>\n",
       "      <td>B001E4KFG0</td>\n",
       "      <td>A3SGXH7AUHU8GW</td>\n",
       "      <td>delmartian</td>\n",
       "      <td>1</td>\n",
       "      <td>1</td>\n",
       "      <td>5</td>\n",
       "      <td>1303862400</td>\n",
       "      <td>Good Quality Dog Food</td>\n",
       "      <td>I have bought several of the Vitality canned d...</td>\n",
       "      <td>1.0</td>\n",
       "      <td>80-100%</td>\n",
       "    </tr>\n",
       "    <tr>\n",
       "      <th>1</th>\n",
       "      <td>2</td>\n",
       "      <td>B00813GRG4</td>\n",
       "      <td>A1D87F6ZCVE5NK</td>\n",
       "      <td>dll pa</td>\n",
       "      <td>0</td>\n",
       "      <td>0</td>\n",
       "      <td>1</td>\n",
       "      <td>1346976000</td>\n",
       "      <td>Not as Advertised</td>\n",
       "      <td>Product arrived labeled as Jumbo Salted Peanut...</td>\n",
       "      <td>-1.0</td>\n",
       "      <td>Empty</td>\n",
       "    </tr>\n",
       "    <tr>\n",
       "      <th>2</th>\n",
       "      <td>3</td>\n",
       "      <td>B000LQOCH0</td>\n",
       "      <td>ABXLMWJIXXAIN</td>\n",
       "      <td>Natalia Corres \"Natalia Corres\"</td>\n",
       "      <td>1</td>\n",
       "      <td>1</td>\n",
       "      <td>4</td>\n",
       "      <td>1219017600</td>\n",
       "      <td>\"Delight\" says it all</td>\n",
       "      <td>This is a confection that has been around a fe...</td>\n",
       "      <td>1.0</td>\n",
       "      <td>80-100%</td>\n",
       "    </tr>\n",
       "    <tr>\n",
       "      <th>3</th>\n",
       "      <td>4</td>\n",
       "      <td>B000UA0QIQ</td>\n",
       "      <td>A395BORC6FGVXV</td>\n",
       "      <td>Karl</td>\n",
       "      <td>3</td>\n",
       "      <td>3</td>\n",
       "      <td>2</td>\n",
       "      <td>1307923200</td>\n",
       "      <td>Cough Medicine</td>\n",
       "      <td>If you are looking for the secret ingredient i...</td>\n",
       "      <td>1.0</td>\n",
       "      <td>80-100%</td>\n",
       "    </tr>\n",
       "    <tr>\n",
       "      <th>4</th>\n",
       "      <td>5</td>\n",
       "      <td>B006K2ZZ7K</td>\n",
       "      <td>A1UQRSCLF8GW1T</td>\n",
       "      <td>Michael D. Bigham \"M. Wassir\"</td>\n",
       "      <td>0</td>\n",
       "      <td>0</td>\n",
       "      <td>5</td>\n",
       "      <td>1350777600</td>\n",
       "      <td>Great taffy</td>\n",
       "      <td>Great taffy at a great price.  There was a wid...</td>\n",
       "      <td>-1.0</td>\n",
       "      <td>Empty</td>\n",
       "    </tr>\n",
       "  </tbody>\n",
       "</table>\n",
       "</div>"
      ],
      "text/plain": [
       "   Id   ProductId   ...    Helpful % % Upvote\n",
       "0   1  B001E4KFG0   ...          1.0  80-100%\n",
       "1   2  B00813GRG4   ...         -1.0    Empty\n",
       "2   3  B000LQOCH0   ...          1.0  80-100%\n",
       "3   4  B000UA0QIQ   ...          1.0  80-100%\n",
       "4   5  B006K2ZZ7K   ...         -1.0    Empty\n",
       "\n",
       "[5 rows x 12 columns]"
      ]
     },
     "execution_count": 2,
     "metadata": {},
     "output_type": "execute_result"
    }
   ],
   "source": [
    "odf = pd.read_csv('../input/Reviews.csv')\n",
    "odf['Helpful %'] = np.where(odf['HelpfulnessDenominator'] > 0, odf['HelpfulnessNumerator'] / odf['HelpfulnessDenominator'], -1)\n",
    "odf['% Upvote'] = pd.cut(odf['Helpful %'], bins = [-1, 0, 0.2, 0.4, 0.6, 0.8, 1.0], labels = ['Empty', '0-20%', '20-40%', '40-60%', '60-80%', '80-100%'], include_lowest = True)\n",
    "odf.head()"
   ]
  },
  {
   "cell_type": "code",
   "execution_count": 3,
   "metadata": {
    "_cell_guid": "20e9de30-7e63-4d77-8f31-4df4080bfadf",
    "_uuid": "382316d23c2d4856431204abcdbcefbc6844764d",
    "collapsed": true
   },
   "outputs": [
    {
     "data": {
      "text/plain": [
       "Text(0.5,1,'How helpful users find among user scores')"
      ]
     },
     "execution_count": 3,
     "metadata": {},
     "output_type": "execute_result"
    },
    {
     "data": {
      "image/png": "[encoded data removed]",
      "text/plain": [
       "<Figure size 1080x720 with 2 Axes>"
      ]
     },
     "metadata": {},
     "output_type": "display_data"
    }
   ],
   "source": [
    "df_s = odf.groupby(['Score', '% Upvote']).agg({'Id': 'count'})\n",
    "df_s = df_s.unstack()\n",
    "df_s.columns = df_s.columns.get_level_values(1)\n",
    "fig = plt.figure(figsize=(15,10))\n",
    "\n",
    "sns.heatmap(df_s[df_s.columns[::-1]].T, cmap = 'YlGnBu', linewidths=.5, annot = True, fmt = 'd', cbar_kws={'label': '# reviews'})\n",
    "plt.yticks(rotation=0)\n",
    "plt.title('How helpful users find among user scores')"
   ]
  },
  {
   "cell_type": "markdown",
   "metadata": {
    "_cell_guid": "7ed3c36d-c141-43c0-bacb-da3019895a3c",
    "_uuid": "c99b3bd4843231d6e2c0cfb5f499e229a7274b72"
   },
   "source": [
    "Key message from above:\n",
    "* Reviews are skewed towards positive\n",
    "* More than half of the reviews are with zero votes\n",
    "* Many people agree with score 5 reviews"
   ]
  },
  {
   "cell_type": "markdown",
   "metadata": {
    "_cell_guid": "6d540e4d-4d44-4d12-8ecb-5c96b19e16f5",
    "_uuid": "912f4b1a7239a19099f77559e91965928eb551d9"
   },
   "source": [
    "Then we get rid of score 3 reviews (neutral), and separate the remaining reviews into binary class (1 = positive, 0 = negative):"
   ]
  },
  {
   "cell_type": "code",
   "execution_count": 4,
   "metadata": {
    "_cell_guid": "d535a0cd-0ec3-4fd9-8cbd-2aeba7072153",
    "_uuid": "75303d78f841c0a0bc26259b82889ee80294e777",
    "collapsed": true
   },
   "outputs": [],
   "source": [
    "df = odf[odf['Score'] != 3]\n",
    "X = df['Text']\n",
    "y_dict = {1:0, 2:0, 4:1, 5:1}\n",
    "y = df['Score'].map(y_dict)"
   ]
  },
  {
   "cell_type": "markdown",
   "metadata": {
    "_cell_guid": "c42b5b60-7746-41dc-9662-19bc690b9121",
    "_uuid": "a9162a034912652c3a3e471ad8a29fdb24e3c89f"
   },
   "source": [
    "## Score prediction\n",
    "### Logistic regression model on word count"
   ]
  },
  {
   "cell_type": "code",
   "execution_count": 5,
   "metadata": {
    "_cell_guid": "577d8073-3b61-4d81-88ed-839742b9e799",
    "_uuid": "7a4ac414ac566bae7bb3e5550da895c7f07e7569",
    "collapsed": true
   },
   "outputs": [
    {
     "name": "stdout",
     "output_type": "stream",
     "text": [
      "# features: 114969\n",
      "# train records: 394360\n",
      "# test records: 131454\n"
     ]
    },
    {
     "name": "stderr",
     "output_type": "stream",
     "text": [
      "/opt/conda/lib/python3.6/site-packages/sklearn/linear_model/logistic.py:433: FutureWarning: Default solver will be changed to 'lbfgs' in 0.22. Specify a solver to silence this warning.\n",
      "  FutureWarning)\n",
      "/opt/conda/lib/python3.6/site-packages/sklearn/svm/base.py:931: ConvergenceWarning: Liblinear failed to converge, increase the number of iterations.\n",
      "  \"the number of iterations.\", ConvergenceWarning)\n"
     ]
    },
    {
     "name": "stdout",
     "output_type": "stream",
     "text": [
      "Model Accuracy: 0.9387162049081809\n",
      "\n",
      "-Top 20 positive-\n",
      "Word  Coefficient\n",
      "   pleasantly     3.329289\n",
      "emeraldforest     3.207288\n",
      "      chedder     3.035364\n",
      "      easiest     2.565063\n",
      "      solving     2.457934\n",
      "      blowout     2.453676\n",
      "     heartier     2.374938\n",
      "    addicting     2.370847\n",
      "   unwrapping     2.303204\n",
      "        herrs     2.302741\n",
      "       skewed     2.298548\n",
      "     drawback     2.292735\n",
      "       hooked     2.290672\n",
      "       hahaha     2.263889\n",
      "     downside     2.249939\n",
      "   correction     2.242783\n",
      "        whisk     2.198551\n",
      "       ration     2.192173\n",
      "       bertie     2.191835\n",
      "   dishwasher     2.170685\n",
      "\n",
      "-Top 20 negative-\n",
      "Word  Coefficient\n",
      "   unfinished    -2.466344\n",
      "     tastless    -2.492745\n",
      "      weakest    -2.602971\n",
      "    overrated    -2.615756\n",
      "    cancelled    -2.693055\n",
      "  unappealing    -2.731129\n",
      "      furious    -2.745230\n",
      "   oversalted    -2.753925\n",
      "    deceptive    -2.821888\n",
      "disappointing    -2.822668\n",
      "  undrinkable    -2.826446\n",
      "  embarrassed    -2.829418\n",
      "    redeeming    -2.875135\n",
      "        worst    -2.892436\n",
      "dissapointing    -2.920578\n",
      "          ick    -2.949969\n",
      "        budda    -2.961230\n",
      "        280mg    -2.984428\n",
      "      3095826    -3.037992\n",
      " unacceptable    -3.291935\n"
     ]
    }
   ],
   "source": [
    "c = CountVectorizer(stop_words = 'english')\n",
    "\n",
    "def text_fit(X, y, model,clf_model,coef_show=1):\n",
    "    \n",
    "    X_c = model.fit_transform(X)\n",
    "    print('# features: {}'.format(X_c.shape[1]))\n",
    "    X_train, X_test, y_train, y_test = train_test_split(X_c, y, random_state=0)\n",
    "    print('# train records: {}'.format(X_train.shape[0]))\n",
    "    print('# test records: {}'.format(X_test.shape[0]))\n",
    "    clf = clf_model.fit(X_train, y_train)\n",
    "    acc = clf.score(X_test, y_test)\n",
    "    print ('Model Accuracy: {}'.format(acc))\n",
    "    \n",
    "    if coef_show == 1: \n",
    "        w = model.get_feature_names()\n",
    "        coef = clf.coef_.tolist()[0]\n",
    "        coeff_df = pd.DataFrame({'Word' : w, 'Coefficient' : coef})\n",
    "        coeff_df = coeff_df.sort_values(['Coefficient', 'Word'], ascending=[0, 1])\n",
    "        print('')\n",
    "        print('-Top 20 positive-')\n",
    "        print(coeff_df.head(20).to_string(index=False))\n",
    "        print('')\n",
    "        print('-Top 20 negative-')        \n",
    "        print(coeff_df.tail(20).to_string(index=False))\n",
    "    \n",
    "    \n",
    "text_fit(X, y, c, LogisticRegression())"
   ]
  },
  {
   "cell_type": "markdown",
   "metadata": {
    "_cell_guid": "edcc6ec5-e764-4acc-ae37-1a69f23fa297",
    "_uuid": "26b218af8cd7c0c14d0d6ca5eec459a27b3fbdc7"
   },
   "source": [
    "Accuracy is around 93.9% - not bad. However we notice that some of those significant coefficients are not meaningful, e.g. 280mg.\n",
    "\n",
    "Let's also look at the base line accuracy (predicting with majority class, in this case positive class):"
   ]
  },
  {
   "cell_type": "code",
   "execution_count": 6,
   "metadata": {
    "_cell_guid": "fd6edba5-9dc8-47e5-a6bb-b65d6ce1f5e8",
    "_uuid": "da62f498dd485b62cd7129804d36ab234b10904c",
    "collapsed": true
   },
   "outputs": [
    {
     "name": "stdout",
     "output_type": "stream",
     "text": [
      "# features: 114969\n",
      "# train records: 394360\n",
      "# test records: 131454\n",
      "Model Accuracy: 0.7353142544159934\n"
     ]
    }
   ],
   "source": [
    "text_fit(X, y, c, DummyClassifier(),0)"
   ]
  },
  {
   "cell_type": "markdown",
   "metadata": {
    "_cell_guid": "b106ed3d-779e-4ee6-b1ee-4d64455d4d37",
    "_uuid": "154cca9f52d1e77649f2e12140c6f912abcd0117"
   },
   "source": [
    "### Logistic regression model on TFIDF"
   ]
  },
  {
   "cell_type": "code",
   "execution_count": 7,
   "metadata": {
    "_cell_guid": "cb526e31-a125-41d2-943a-7a3613f75624",
    "_uuid": "54023303417b1b6bcc32ebfa2dd973ec96c9a0a1",
    "collapsed": true
   },
   "outputs": [
    {
     "name": "stdout",
     "output_type": "stream",
     "text": [
      "# features: 114969\n",
      "# train records: 394360\n",
      "# test records: 131454\n"
     ]
    },
    {
     "name": "stderr",
     "output_type": "stream",
     "text": [
      "/opt/conda/lib/python3.6/site-packages/sklearn/linear_model/logistic.py:433: FutureWarning: Default solver will be changed to 'lbfgs' in 0.22. Specify a solver to silence this warning.\n",
      "  FutureWarning)\n"
     ]
    },
    {
     "name": "stdout",
     "output_type": "stream",
     "text": [
      "Model Accuracy: 0.9346691618360795\n",
      "\n",
      "-Top 20 positive-\n",
      "Word  Coefficient\n",
      "     great    13.722053\n",
      " delicious    12.152401\n",
      "      best    12.013713\n",
      "   perfect    10.606939\n",
      " excellent     9.860665\n",
      "     loves     9.583115\n",
      "    highly     9.037667\n",
      "      love     8.363584\n",
      " wonderful     7.965187\n",
      "   amazing     7.797122\n",
      "   awesome     7.629256\n",
      "      good     7.339747\n",
      "pleasantly     7.242571\n",
      "      nice     7.188673\n",
      "    hooked     7.019285\n",
      "     yummy     6.954306\n",
      "  favorite     6.941715\n",
      "   pleased     6.931340\n",
      "    smooth     6.884071\n",
      " fantastic     6.721745\n",
      "\n",
      "-Top 20 negative-\n",
      "Word  Coefficient\n",
      "         waste    -5.624617\n",
      "          poor    -5.720376\n",
      "   undrinkable    -5.722118\n",
      "          yuck    -6.010264\n",
      "         stale    -6.152055\n",
      "         worse    -6.281930\n",
      "         bland    -6.323419\n",
      "    disgusting    -6.556087\n",
      "          weak    -6.563156\n",
      "        return    -6.688471\n",
      "         threw    -6.733330\n",
      "     tasteless    -6.838199\n",
      " unfortunately    -7.437975\n",
      "      horrible    -7.793645\n",
      "         awful    -8.149215\n",
      "disappointment    -8.312410\n",
      "  disappointed    -8.492150\n",
      "      terrible    -9.263025\n",
      " disappointing   -10.117334\n",
      "         worst   -11.710415\n"
     ]
    }
   ],
   "source": [
    "tfidf = TfidfVectorizer(stop_words = 'english')\n",
    "text_fit(X, y, tfidf, LogisticRegression())\n"
   ]
  },
  {
   "cell_type": "markdown",
   "metadata": {
    "_cell_guid": "fee2b5d6-d330-421f-9a33-a72fa51d72d2",
    "_uuid": "871fe6d0df70d4825ca6b7bb24d391e1c5ab7368"
   },
   "source": [
    "Accurancy is roughly the same - 93.5%. However we notice that the significant words make much more sense now, with higher coefficient magnitude as well!"
   ]
  },
  {
   "cell_type": "markdown",
   "metadata": {
    "_cell_guid": "4e3d29af-8979-48c9-b072-d94964e4afe3",
    "_uuid": "192a21df420525cac90d288aabe64e74d4829aff"
   },
   "source": [
    "### Logistic regression model on TFIDF + ngram"
   ]
  },
  {
   "cell_type": "code",
   "execution_count": 8,
   "metadata": {
    "_cell_guid": "4a6f8305-8426-4fb6-97ed-7ff639f27d42",
    "_uuid": "72916d30dca26b6d5af7cec81bf6cd8a10ab64ee",
    "collapsed": true
   },
   "outputs": [
    {
     "name": "stdout",
     "output_type": "stream",
     "text": [
      "# features: 3933179\n",
      "# train records: 394360\n",
      "# test records: 131454\n"
     ]
    },
    {
     "name": "stderr",
     "output_type": "stream",
     "text": [
      "/opt/conda/lib/python3.6/site-packages/sklearn/linear_model/logistic.py:433: FutureWarning: Default solver will be changed to 'lbfgs' in 0.22. Specify a solver to silence this warning.\n",
      "  FutureWarning)\n"
     ]
    },
    {
     "name": "stdout",
     "output_type": "stream",
     "text": [
      "Model Accuracy: 0.9455398846744869\n",
      "\n",
      "-Top 20 positive-\n",
      "Word  Coefficient\n",
      "           great    21.053000\n",
      "            best    17.832356\n",
      "       delicious    17.010372\n",
      "         perfect    14.621994\n",
      "           loves    13.611233\n",
      "            love    13.270458\n",
      "       excellent    13.142385\n",
      "            good    11.414094\n",
      "       wonderful    11.317826\n",
      "            nice    10.811111\n",
      "        favorite    10.595136\n",
      "         amazing     9.691345\n",
      "         awesome     9.371849\n",
      "            easy     9.142949\n",
      "         pleased     8.946003\n",
      "           happy     8.907161\n",
      "          smooth     8.714323\n",
      "           yummy     8.593455\n",
      "          highly     8.466183\n",
      "highly recommend     8.423149\n",
      "\n",
      "-Top 20 negative-\n",
      "Word  Coefficient\n",
      "         maybe    -7.808387\n",
      "        hoping    -8.127677\n",
      "     tasteless    -8.250498\n",
      "         money    -8.318603\n",
      "         worse    -8.352882\n",
      "       thought    -8.564169\n",
      "    disgusting    -8.764442\n",
      "         bland    -9.144472\n",
      "         threw    -9.304731\n",
      "         stale    -9.893009\n",
      "          weak    -9.965529\n",
      "        return   -10.141683\n",
      "disappointment   -10.343126\n",
      " unfortunately   -10.834690\n",
      "      horrible   -11.310097\n",
      "         awful   -11.811507\n",
      "      terrible   -13.031972\n",
      " disappointing   -13.443660\n",
      "  disappointed   -14.707317\n",
      "         worst   -15.209092\n"
     ]
    }
   ],
   "source": [
    "tfidf_n = TfidfVectorizer(ngram_range=(1,2),stop_words = 'english')\n",
    "text_fit(X, y, tfidf_n, LogisticRegression())"
   ]
  },
  {
   "cell_type": "markdown",
   "metadata": {
    "_cell_guid": "9e374d81-ee7a-433a-8ed1-5d5aeea9f279",
    "_uuid": "16d86e008a261cf09370ea25feb6944f9a9ccc32"
   },
   "source": [
    "Adding ngram parameter, we are able to understand phrase like \"not good\". Therefore the accuracy goes up a bit to 94.5%. We can see \"highly recommend\" is on 20th place of positive words"
   ]
  },
  {
   "cell_type": "markdown",
   "metadata": {
    "_cell_guid": "ddb94e95-3d7a-4a99-b525-8bbef54a8bbe",
    "_uuid": "22af55dec11ef18c2eb3b94ba53c7639e09324c4"
   },
   "source": [
    "## Upvote prediction\n",
    "### Data preview"
   ]
  },
  {
   "cell_type": "markdown",
   "metadata": {
    "_cell_guid": "b568e9ad-6495-42ee-a377-3979a8e96cc9",
    "_uuid": "31f220dd27e37bd087bc501d9e56b728010a39b1"
   },
   "source": [
    "This study is to see whether there is pattern found for unpopular (downvote) comments by users (might be used to boost sales).\n",
    "We will be focusing on score 5 reviews, and get rid of comments with neutral votes:"
   ]
  },
  {
   "cell_type": "code",
   "execution_count": 9,
   "metadata": {
    "_cell_guid": "4159fa98-0cde-4934-ad74-046131e44608",
    "_uuid": "5ca846ee71a6ea947d7874b1737f2e87f32aa3b7",
    "collapsed": true
   },
   "outputs": [
    {
     "name": "stdout",
     "output_type": "stream",
     "text": [
      "Class distribution:\n",
      "1    151721\n",
      "0      2707\n",
      "Name: % Upvote, dtype: int64\n"
     ]
    }
   ],
   "source": [
    "df = df[df['Score'] == 5]\n",
    "df = df[df['% Upvote'].isin(['0-20%', '20-40%', '60-80%', '80-100%'])]\n",
    "df.shape\n",
    "\n",
    "X = df['Text']\n",
    "y_dict = {'0-20%': 0, '20-40%': 0, '60-80%': 1, '80-100%': 1}\n",
    "y = df['% Upvote'].map(y_dict)\n",
    "\n",
    "print('Class distribution:')\n",
    "print(y.value_counts())"
   ]
  },
  {
   "cell_type": "markdown",
   "metadata": {
    "_cell_guid": "8dce7aef-6c66-4e8e-bfca-540383bdd709",
    "_uuid": "71ac359288e1b2610ddc42236b1253e16a0d3a1c"
   },
   "source": [
    "The target class is highly skewed to positive (upvotes). Let's resample the data to get balanced data:"
   ]
  },
  {
   "cell_type": "code",
   "execution_count": 10,
   "metadata": {
    "_cell_guid": "33b320e7-80c0-4f04-899f-1f2c1e81e563",
    "_uuid": "3696b4f918c20e88319b8acb1be1153c92f66c3b",
    "collapsed": true
   },
   "outputs": [
    {
     "name": "stdout",
     "output_type": "stream",
     "text": [
      "Percentage of upvote transactions:  0.5\n",
      "Percentage of downvote transactions:  0.5\n",
      "Total number of records in resampled data:  5414\n"
     ]
    },
    {
     "name": "stderr",
     "output_type": "stream",
     "text": [
      "/opt/conda/lib/python3.6/site-packages/ipykernel_launcher.py:13: DeprecationWarning: \n",
      ".ix is deprecated. Please use\n",
      ".loc for label based indexing or\n",
      ".iloc for positional indexing\n",
      "\n",
      "See the documentation here:\n",
      "http://pandas.pydata.org/pandas-docs/stable/indexing.html#ix-indexer-is-deprecated\n",
      "  del sys.path[0]\n"
     ]
    }
   ],
   "source": [
    "df_s = pd.DataFrame(data = [X,y]).T\n",
    "\n",
    "Downvote_records = len(df_s[df_s['% Upvote'] == 0])\n",
    "Downvote_indices = np.array(df_s[df_s['% Upvote'] == 0].index)\n",
    "\n",
    "Upvote_indices = df_s[df_s['% Upvote'] == 1].index\n",
    "\n",
    "random_upvote_indices = np.random.choice(Upvote_indices, Downvote_records, replace = False)\n",
    "random_upvote_indices = np.array(random_upvote_indices)\n",
    "\n",
    "under_sample_indices = np.concatenate([Downvote_indices,random_upvote_indices])\n",
    "\n",
    "under_sample_data = df_s.ix[under_sample_indices, :]\n",
    "X_u = under_sample_data['Text']\n",
    "under_sample_data['% Upvote'] = under_sample_data['% Upvote'].astype(int)\n",
    "y_u = under_sample_data['% Upvote']\n",
    "\n",
    "\n",
    "print(\"Percentage of upvote transactions: \", len(under_sample_data[under_sample_data['% Upvote'] == 1])/len(under_sample_data))\n",
    "print(\"Percentage of downvote transactions: \", len(under_sample_data[under_sample_data['% Upvote'] == 0])/len(under_sample_data))\n",
    "print(\"Total number of records in resampled data: \", len(under_sample_data))"
   ]
  },
  {
   "cell_type": "markdown",
   "metadata": {
    "_cell_guid": "30ef9791-cb76-436b-95b1-8768664d8ba4",
    "_uuid": "80f9dad3271fd1ec9da5777e3c8b6f974242915e"
   },
   "source": [
    "### Logistic regression model on word count"
   ]
  },
  {
   "cell_type": "code",
   "execution_count": 11,
   "metadata": {
    "_cell_guid": "65ffcfb6-635d-437d-9f08-0eadb9a6957c",
    "_uuid": "38d940aee1abb2d87cb10c79516f27f0e62e7b18",
    "collapsed": true
   },
   "outputs": [
    {
     "name": "stdout",
     "output_type": "stream",
     "text": [
      "# features: 15991\n",
      "# train records: 4060\n",
      "# test records: 1354\n"
     ]
    },
    {
     "name": "stderr",
     "output_type": "stream",
     "text": [
      "/opt/conda/lib/python3.6/site-packages/sklearn/linear_model/logistic.py:433: FutureWarning: Default solver will be changed to 'lbfgs' in 0.22. Specify a solver to silence this warning.\n",
      "  FutureWarning)\n"
     ]
    },
    {
     "name": "stdout",
     "output_type": "stream",
     "text": [
      "Model Accuracy: 0.723781388478582\n",
      "\n",
      "-Top 20 positive-\n",
      "Word  Coefficient\n",
      " fabulous     1.545586\n",
      "  sitting     1.303502\n",
      "   sticks     1.237526\n",
      "  dessert     1.212756\n",
      " american     1.154577\n",
      "   method     1.101325\n",
      "    close     1.088437\n",
      "   keurig     1.087050\n",
      " cupcakes     1.060573\n",
      "     nori     1.053990\n",
      "    value     1.043162\n",
      "   figure     1.033026\n",
      "  veggies     1.032414\n",
      "   stevia     1.014206\n",
      "   orange     1.002139\n",
      "    share     0.967894\n",
      "   second     0.967279\n",
      "   ginger     0.953972\n",
      "    keeps     0.950058\n",
      "reviewers     0.949899\n",
      "\n",
      "-Top 20 negative-\n",
      "Word  Coefficient\n",
      "expiration    -0.969432\n",
      "     items    -0.970297\n",
      "   thought    -0.976880\n",
      "      look    -0.977305\n",
      "  memories    -0.978421\n",
      "     gonna    -0.986800\n",
      "   cereals    -0.989177\n",
      "     wrong    -1.021175\n",
      "    nicely    -1.054415\n",
      "    barley    -1.074731\n",
      "    reason    -1.127728\n",
      "    review    -1.151565\n",
      "     cases    -1.160619\n",
      "      zico    -1.210817\n",
      "     stars    -1.258830\n",
      "   enjoyed    -1.259637\n",
      "    golden    -1.267455\n",
      "    lipton    -1.401696\n",
      "     kashi    -1.555186\n",
      "    marley    -1.843803\n"
     ]
    }
   ],
   "source": [
    "c = CountVectorizer(stop_words = 'english')\n",
    "\n",
    "text_fit(X_u, y_u, c, LogisticRegression())"
   ]
  },
  {
   "cell_type": "markdown",
   "metadata": {
    "_cell_guid": "20296e55-ff5a-46c2-84fa-d14db01a7b8a",
    "_uuid": "2a1b0573fa2844772b47244fc0ebdc161ab0a0b6"
   },
   "source": [
    "The words look no sense at all, and the coefficients are very small."
   ]
  },
  {
   "cell_type": "markdown",
   "metadata": {
    "_cell_guid": "c4ed4015-6e67-4073-b0c9-1a56bcea6098",
    "_uuid": "b2eff77a4b50bfe114df381ca1bba7a0a42fd4ab"
   },
   "source": [
    "### Logistic regression model on TFIDF + ngram"
   ]
  },
  {
   "cell_type": "code",
   "execution_count": 12,
   "metadata": {
    "_cell_guid": "d72dcc7d-74b0-4c5d-92a3-87e4034fb0ce",
    "_uuid": "b9bb5e65c4f20416739d68800b91d546feb0a7e4",
    "collapsed": true
   },
   "outputs": [
    {
     "name": "stdout",
     "output_type": "stream",
     "text": [
      "# features: 143746\n",
      "# train records: 4060\n",
      "# test records: 1354\n",
      "Model Accuracy: 0.7296898079763663\n"
     ]
    },
    {
     "name": "stderr",
     "output_type": "stream",
     "text": [
      "/opt/conda/lib/python3.6/site-packages/sklearn/linear_model/logistic.py:433: FutureWarning: Default solver will be changed to 'lbfgs' in 0.22. Specify a solver to silence this warning.\n",
      "  FutureWarning)\n"
     ]
    },
    {
     "name": "stdout",
     "output_type": "stream",
     "text": [
      "\n",
      "-Top 20 positive-\n",
      "Word  Coefficient\n",
      "     food     1.647147\n",
      "   flavor     1.552531\n",
      "     just     1.468993\n",
      "     make     1.337586\n",
      "     rice     1.291813\n",
      "    chips     1.273051\n",
      "  perfect     1.255958\n",
      "      mix     1.237502\n",
      "       ve     1.193255\n",
      "      lot     1.116902\n",
      "    small     1.113739\n",
      "      bag     1.024936\n",
      "   gluten     0.971367\n",
      "    fresh     0.952015\n",
      "   stevia     0.938790\n",
      "  chicken     0.926184\n",
      "  flavors     0.925472\n",
      "     teas     0.914433\n",
      "    tried     0.914180\n",
      "wonderful     0.912574\n",
      "\n",
      "-Top 20 negative-\n",
      "Word  Coefficient\n",
      "         buy    -0.856383\n",
      "        item    -0.857375\n",
      "      reason    -0.862550\n",
      "        wish    -0.895996\n",
      "        yoga    -0.908312\n",
      "     service    -0.941306\n",
      "      seller    -0.953005\n",
      "      thanks    -0.953351\n",
      "great coffee    -0.964508\n",
      "      lipton    -1.006090\n",
      "  cappuccino    -1.007144\n",
      "       order    -1.099343\n",
      "      coffee    -1.103042\n",
      "      marley    -1.165078\n",
      "        know    -1.165885\n",
      "        zico    -1.217793\n",
      "     product    -1.471038\n",
      "          br    -1.680816\n",
      "       drink    -1.714970\n",
      "       water    -1.953906\n"
     ]
    }
   ],
   "source": [
    "tfidf_n = TfidfVectorizer(ngram_range=(1,2),stop_words = 'english')\n",
    "\n",
    "text_fit(X_u, y_u, tfidf_n, LogisticRegression())"
   ]
  },
  {
   "cell_type": "markdown",
   "metadata": {
    "_cell_guid": "8151e536-ef85-4d64-8ebf-10fbeb8c76cc",
    "_uuid": "98a02ac427ac71302f8d9ffd134bd3c2670afd99"
   },
   "source": [
    "Similar to count metric, the accuracy isn't very high and words are not meaningful."
   ]
  },
  {
   "cell_type": "markdown",
   "metadata": {
    "_cell_guid": "8177abd0-2cfd-4c26-b82f-2bf2edc199f8",
    "_uuid": "7254306b3a79653a783012031a28452fa610409b"
   },
   "source": [
    "### Study on non-context features"
   ]
  },
  {
   "cell_type": "markdown",
   "metadata": {
    "_cell_guid": "c1b58b3a-43aa-4215-8a5b-cd5261cee2e8",
    "_uuid": "b19f5f3dd9f233d39c6e1cdb44a514637dde6841"
   },
   "source": [
    "Let's look at some examples of upvote and downvote comments:"
   ]
  },
  {
   "cell_type": "code",
   "execution_count": 13,
   "metadata": {
    "_cell_guid": "b056c0a1-8976-4571-ad47-3bc2c45d6fa2",
    "_uuid": "a1b7fed1cff92a13db1289a018900a585574c21f",
    "collapsed": true
   },
   "outputs": [
    {
     "name": "stdout",
     "output_type": "stream",
     "text": [
      "Downvote score 5 comments examples:\n",
      "207      Hard to find the wintergreen smalls [sugar fre...\n",
      "4511     Wonderful, smooth, satisfying decaf coffee wit...\n",
      "7787     My husband is a big coffee drinker, and with a...\n",
      "12072    We love French roast coffee and my husband mus...\n",
      "13671    THIS IS A LOVELY VERY HEALTHY TREE,ALONG WITH ...\n",
      "Name: Text, dtype: object\n",
      "Upvote score 5 comments examples\n",
      "343325    My two cats will eat anything. So why do I eve...\n",
      "100077    This Korean-style ramen is one of my favorites...\n",
      "103044    I ordered this to serve at a \"tea\" where I was...\n",
      "313262    My family and I enjoy Wheat Thins and compared...\n",
      "144992    Although it may seem just a tad precious, our ...\n",
      "Name: Text, dtype: object\n"
     ]
    }
   ],
   "source": [
    "#pd.set_option('display.max_colwidth', -1)\n",
    "print('Downvote score 5 comments examples:')\n",
    "print(under_sample_data[under_sample_data['% Upvote']==0]['Text'].iloc[:100:20])\n",
    "print('Upvote score 5 comments examples')\n",
    "print(under_sample_data[under_sample_data['% Upvote']==1]['Text'].iloc[:100:20])"
   ]
  },
  {
   "cell_type": "markdown",
   "metadata": {
    "_cell_guid": "5841a2fe-e967-485f-ade4-3d16e4d8d383",
    "_uuid": "f4d7310c83e84a1846df1f9f84214e15c0b42151"
   },
   "source": [
    "Time to extract some possible features:"
   ]
  },
  {
   "cell_type": "code",
   "execution_count": 14,
   "metadata": {
    "_cell_guid": "fc10f1df-c999-4580-8b3e-ece62a9f4763",
    "_uuid": "d1e242d3b9fc260e8246598bf94473894ea2a9bd",
    "collapsed": true
   },
   "outputs": [
    {
     "name": "stdout",
     "output_type": "stream",
     "text": [
      "% Upvote                  0          1\n",
      "word_count        83.927226  88.634651\n",
      "capital_count     19.252678  13.878463\n",
      "question_mark      0.180273   0.076468\n",
      "exclamation_mark   0.906169   0.958256\n",
      "punctuation       22.482822  19.701884\n"
     ]
    }
   ],
   "source": [
    "under_sample_data['word_count'] = under_sample_data['Text'].apply(lambda x: len(x.split()))\n",
    "under_sample_data['capital_count'] = under_sample_data['Text'].apply(lambda x: sum(1 for c in x if c.isupper()))\n",
    "under_sample_data['question_mark'] = under_sample_data['Text'].apply(lambda x: sum(1 for c in x if c == '?'))\n",
    "under_sample_data['exclamation_mark'] = under_sample_data['Text'].apply(lambda x: sum(1 for c in x if c == '!'))\n",
    "under_sample_data['punctuation'] = under_sample_data['Text'].apply(lambda x: sum(1 for c in x if c in punctuation))\n",
    "\n",
    "print(under_sample_data.groupby('% Upvote').agg({'word_count': 'mean', 'capital_count': 'mean', 'question_mark': 'mean', 'exclamation_mark': 'mean', 'punctuation': 'mean'}).T)\n",
    "\n",
    "X_num = under_sample_data[under_sample_data.columns.difference(['% Upvote', 'Text'])]\n",
    "y_num = under_sample_data['% Upvote']\n"
   ]
  },
  {
   "cell_type": "markdown",
   "metadata": {
    "_cell_guid": "a273f109-5c2e-40d0-8dcb-51f75783dcf9",
    "_uuid": "e817b1ba10decfec707f02a69764174f0782efbe"
   },
   "source": [
    "Now we train the model to predict:"
   ]
  },
  {
   "cell_type": "code",
   "execution_count": 15,
   "metadata": {
    "_cell_guid": "0aada9b1-e851-4001-aa6f-b2932f82986a",
    "_uuid": "a3c3cd460cf154127fbe7577b174f31b48227b53",
    "collapsed": true
   },
   "outputs": [
    {
     "name": "stdout",
     "output_type": "stream",
     "text": [
      "Logistic Regression accuracy: 0.5945347119645494\n"
     ]
    },
    {
     "name": "stderr",
     "output_type": "stream",
     "text": [
      "/opt/conda/lib/python3.6/site-packages/sklearn/linear_model/logistic.py:433: FutureWarning: Default solver will be changed to 'lbfgs' in 0.22. Specify a solver to silence this warning.\n",
      "  FutureWarning)\n",
      "/opt/conda/lib/python3.6/site-packages/sklearn/svm/base.py:196: FutureWarning: The default value of gamma will change from 'auto' to 'scale' in version 0.22 to account better for unscaled features. Set gamma explicitly to 'auto' or 'scale' to avoid this warning.\n",
      "  \"avoid this warning.\", FutureWarning)\n"
     ]
    },
    {
     "name": "stdout",
     "output_type": "stream",
     "text": [
      "SVM accuracy: 0.6506646971935007\n"
     ]
    }
   ],
   "source": [
    "X_train, X_test, y_train, y_test = train_test_split(X_num, y_num, random_state=0)\n",
    "\n",
    "clf_lr = LogisticRegression().fit(X_train, y_train)\n",
    "acc_lr = clf_lr.score(X_test, y_test)\n",
    "print('Logistic Regression accuracy: {}'.format(acc_lr))\n",
    "\n",
    "clf_svm = svm.SVC().fit(X_train, y_train)\n",
    "acc_svm = clf_svm.score(X_test, y_test)\n",
    "print('SVM accuracy: {}'.format(acc_svm))"
   ]
  },
  {
   "cell_type": "markdown",
   "metadata": {
    "_cell_guid": "4fd116b9-fe41-433b-9d79-00a28f9ea86c",
    "_uuid": "a781da0f073df2998107e36e66752ed5b5ebf33a"
   },
   "source": [
    "Accuracy is lower than context features we tried above, meaning the feature is not good enough to predict our target."
   ]
  },
  {
   "cell_type": "markdown",
   "metadata": {
    "_cell_guid": "2f458f6a-806f-4b8c-891a-bead3abb248c",
    "_uuid": "7fd8db193bc024e92266d5e883a73152366f5609"
   },
   "source": [
    "## In-depth study on user behaviour"
   ]
  },
  {
   "cell_type": "markdown",
   "metadata": {
    "_cell_guid": "36924dc3-12d8-431d-8da8-fc92f6893d5b",
    "_uuid": "ac6f97ed677b2581b9da5d9102980fb0e988323b"
   },
   "source": [
    "This analysis will be carried out to focus on one specific user, on what he / she likes in terms of fine food, based on the reviews he / she had given in the past. This can be expanded to all users later on. \n",
    "\n",
    "First let's look at how many reviews each user gave in the past:"
   ]
  },
  {
   "cell_type": "code",
   "execution_count": 16,
   "metadata": {
    "_cell_guid": "c698ccae-4423-4586-832c-07675ae4643d",
    "_uuid": "290c5adaf8560bddb9de09f8209beba77013d4c3",
    "collapsed": true
   },
   "outputs": [
    {
     "name": "stdout",
     "output_type": "stream",
     "text": [
      "                                                       Score count  Score mean\n",
      "UserId         ProfileName                                                    \n",
      "A3OXHLG6DIBRW8 C. F. Hill \"CFH\"                                448    4.535714\n",
      "A1YUL9PCJR3JTY O. Brown \"Ms. O. Khannah-Brown\"                 421    4.494062\n",
      "AY12DBB0U420B  Gary Peterson                                   389    4.647815\n",
      "A281NPSIMI1C2R Rebecca of Amazon \"The Rebecca Review\"          365    4.841096\n",
      "A1Z54EM24Y40LL c2                                              256    4.453125\n",
      "A1TMAVN4CEM8U8 Gunner                                          204    4.833333\n",
      "A2MUGFV2TDQ47K Lynrie \"Oh HELL no\"                             201    3.751244\n",
      "A3TVZM3ZIXG8YW christopher hayes                               199    1.000000\n",
      "A3PJZ8TU8FDQ1K Jared Castle                                    178    4.601124\n",
      "AQQLWCMRNDFGI  Steven A. Peterson                              176    3.954545\n"
     ]
    }
   ],
   "source": [
    "df_user = odf.groupby(['UserId', 'ProfileName']).agg({'Score':['count', 'mean']})\n",
    "df_user.columns = df_user.columns.get_level_values(1)\n",
    "df_user.columns = ['Score count', 'Score mean']\n",
    "df_user = df_user.sort_values(by = 'Score count', ascending = False)\n",
    "print(df_user.head(10))\n"
   ]
  },
  {
   "cell_type": "markdown",
   "metadata": {
    "_cell_guid": "76a4827d-9284-4b7d-a7db-6bca1c7195f6",
    "_uuid": "152f88e34f56968f92d060854070f28ab8d69a84"
   },
   "source": [
    "The user with most frequent reviews are \"CFH\" with 448 reviews and average score 4.54. Let's look at his review distribution:"
   ]
  },
  {
   "cell_type": "code",
   "execution_count": 17,
   "metadata": {
    "_cell_guid": "2ea99724-28d9-48ac-b841-e8dbdb3875f6",
    "_uuid": "32353458bc0d3075a945f3717b29cf321932fd7d",
    "collapsed": true
   },
   "outputs": [
    {
     "data": {
      "image/png": "[encoded data removed]",
      "text/plain": [
       "<Figure size 1080x720 with 1 Axes>"
      ]
     },
     "metadata": {},
     "output_type": "display_data"
    }
   ],
   "source": [
    "def plot_user(UserId):\n",
    "    df_1user = odf[odf['UserId'] == UserId]['Score']\n",
    "    df_1user_plot = df_1user.value_counts(sort=False)\n",
    "    ax = df_1user_plot.plot(kind = 'bar', figsize = (15,10), title = 'Score distribution of user {} review'.format(odf[odf['UserId'] == UserId]['ProfileName'].iloc[0]))\n",
    "\n",
    "plot_user('A3OXHLG6DIBRW8')"
   ]
  },
  {
   "cell_type": "markdown",
   "metadata": {
    "_cell_guid": "2c4749bf-8af8-4af7-b96f-f224cada9615",
    "_uuid": "2c9caf2d64eae4f89e8f3c0e969d28e89ec871e9"
   },
   "source": [
    "It looks user \"CFH\" prefer to give high score a lot. I would rather analyze a more neutral user, let's dig into that:"
   ]
  },
  {
   "cell_type": "code",
   "execution_count": 18,
   "metadata": {
    "_cell_guid": "2e09a303-8c2f-4632-bc3c-bc86827ce4cf",
    "_uuid": "d99e5622ab3ccbe804c8bb233e98dd82a643b9e9",
    "collapsed": true
   },
   "outputs": [
    {
     "name": "stdout",
     "output_type": "stream",
     "text": [
      "                                Score count  Score mean\n",
      "UserId         ProfileName                             \n",
      "A35R32TA60XD57 M. Torma                 141    3.460993\n",
      "A2M9D9BDHONV3Y A. Bennett               115    3.269565\n",
      "A2TN9C5E4A0I3F Jimmy                    110    2.727273\n",
      "A2XNJJ9TF70P4J Angie                     85    2.976471\n",
      "AJB5P7GVR0MT8  Harry the Horse           70    3.257143\n"
     ]
    }
   ],
   "source": [
    "print(df_user[(df_user['Score mean']<3.5) & (df_user['Score mean']>2.5)].head())"
   ]
  },
  {
   "cell_type": "markdown",
   "metadata": {
    "_cell_guid": "bd9e9ea9-4b40-4424-8b25-40ae32c04daa",
    "_uuid": "e85e3bcfec7b42bc6f0b90351a1a18e3ecc08444"
   },
   "source": [
    "A. Bennett seems a good target:"
   ]
  },
  {
   "cell_type": "code",
   "execution_count": 19,
   "metadata": {
    "_cell_guid": "a7c92ba7-0259-447f-a13d-8b586f9fbb40",
    "_uuid": "89514c32c39edad69e70fc564a29078cb5b60761",
    "collapsed": true
   },
   "outputs": [
    {
     "data": {
      "image/png": "[encoded data removed]",
      "text/plain": [
       "<Figure size 1080x720 with 1 Axes>"
      ]
     },
     "metadata": {},
     "output_type": "display_data"
    }
   ],
   "source": [
    "plot_user('A2M9D9BDHONV3Y')"
   ]
  },
  {
   "cell_type": "markdown",
   "metadata": {
    "_cell_guid": "ba36510e-0c03-472c-9e47-b37b1f4ad2b3",
    "_uuid": "94993660cefaacbc71ffbf2e38a690c1fc23b859"
   },
   "source": [
    "He seems like a better analysis target! Now let's dig deep into his reviews:"
   ]
  },
  {
   "cell_type": "code",
   "execution_count": 20,
   "metadata": {
    "_cell_guid": "2de54019-90b9-48db-819c-6c18a0350c7d",
    "_uuid": "bdff6fb6209a93fa2e95468df38c77a8b1d487a1",
    "collapsed": true
   },
   "outputs": [
    {
     "name": "stdout",
     "output_type": "stream",
     "text": [
      "score 1 reviews most popular 2-gram / 3-gram:\n",
      "   Count  Occur %                   Phrase\n",
      "0   31.0  119.23%               (..., ...)\n",
      "1   17.0   65.38%          (..., ..., ...)\n",
      "2   11.0   42.31%             (never, buy)\n",
      "3    9.0   34.62%           (buy, product)\n",
      "4    8.0   30.77%  (monosodium, glutamate)\n",
      "5    8.0   30.77%    (never, buy, product)\n",
      "6    7.0   26.92%            (decide, try)\n",
      "7    7.0   26.92%         (dry, tasteless)\n",
      "8    7.0   26.92%          (picture, look)\n",
      "score 2 reviews most popular 2-gram / 3-gram:\n",
      "    Count Occur %                Phrase\n",
      "0     8.0  47.06%  (sauce, ruin, whole)\n",
      "1     8.0  47.06%         (ruin, whole)\n",
      "2     8.0  47.06%         (sauce, ruin)\n",
      "3     6.0  35.29%       (product, ever)\n",
      "4     6.0  35.29%            (n't, buy)\n",
      "5     5.0  29.41%          (get, wrong)\n",
      "6     5.0  29.41%          (..., .give)\n",
      "7     5.0  29.41%    (.give, try, like)\n",
      "8     5.0  29.41%     (buy, particular)\n",
      "9     5.0  29.41%     (n't, get, wrong)\n",
      "10    5.0  29.41%         (taste, like)\n",
      "11    5.0  29.41%          (.give, try)\n",
      "12    5.0  29.41%           (try, like)\n",
      "13    5.0  29.41%            (n't, get)\n",
      "14    5.0  29.41%     (..., .give, try)\n",
      "score 3 reviews most popular 2-gram / 3-gram:\n",
      "   Count Occur %         Phrase\n",
      "0    7.0   50.0%     (..., ...)\n",
      "1    4.0  28.57%  (taste, like)\n",
      "2    4.0  28.57%   (whole, lot)\n",
      "score 4 reviews most popular 2-gram / 3-gram:\n",
      "   Count Occur %               Phrase\n",
      "0    6.0   37.5%  (highly, recommend)\n",
      "1    5.0  31.25%         (side, dish)\n",
      "2    4.0   25.0%       (potato, chip)\n",
      "score 5 reviews most popular 2-gram / 3-gram:\n",
      "   Count Occur %               Phrase\n",
      "0   18.0  42.86%  (highly, recommend)\n"
     ]
    }
   ],
   "source": [
    "def get_token_ngram(score, benchmark, userid='all'):\n",
    "\n",
    "    if userid != 'all':\n",
    "        df = odf[(odf['UserId'] == userid) & (odf['Score'] == score)]['Text']\n",
    "    else:\n",
    "        df = odf[odf['Score'] == score]['Text']\n",
    "        \n",
    "    count = len(df)\n",
    "    total_text = ' '.join(df)\n",
    "    total_text = total_text.lower()\n",
    "    stop = set(stopwords.words('english'))\n",
    "    total_text = nltk.word_tokenize(total_text)\n",
    "    total_text = [word for word in total_text if word not in stop and len(word) >= 3]\n",
    "    lemmatizer = WordNetLemmatizer()\n",
    "    total_text = [lemmatizer.lemmatize(w,'v') for w in total_text]\n",
    "    bigrams = ngrams(total_text,2)\n",
    "    trigrams = ngrams(total_text, 3)\n",
    "\n",
    "    # look at 2-gram and 3-gram together\n",
    "    combine = chain(bigrams, trigrams)\n",
    "    text = nltk.Text(combine)\n",
    "    fdist = nltk.FreqDist(text)\n",
    "    \n",
    "    # return only phrase occurs more than benchmark of his reviews\n",
    "    return sorted([(w,fdist[w],str(round(fdist[w]/count*100,2))+'%') for w in set(text) if fdist[w] >= count*benchmark], key=lambda x: -x[1])\n",
    "\n",
    "# score 1-5 reviews with this user\n",
    "index = ['Phrase', 'Count', 'Occur %']\n",
    "\n",
    "for j in range(1,6):\n",
    "    test = pd.DataFrame()\n",
    "    d = get_token_ngram(j, 0.25, 'A2M9D9BDHONV3Y')\n",
    "    print('score {} reviews most popular 2-gram / 3-gram:'.format(j))\n",
    "    for i in d:\n",
    "        test = test.append(pd.Series(i, index = index), ignore_index = True)\n",
    "    test = test.sort_values('Count', ascending=False)\n",
    "    print(test)\n",
    "\n"
   ]
  },
  {
   "cell_type": "markdown",
   "metadata": {
    "_cell_guid": "0bbcac4b-78a6-4e8d-adf8-3a6a1ce04f9e",
    "_uuid": "226ae03b35efa71db8446f4652295c7a557d8656"
   },
   "source": [
    "Seems like A. Bennett likes to use something like \"give it a try\" for score 2 reviews and \"highly recommend\" for score 5 reviews (without other frequent phrases). He likes using the phrase \"...\" a lot as well. Sample size is very small though.\n",
    "\n",
    "Let's look at full picture now instead of just one user:"
   ]
  },
  {
   "cell_type": "code",
   "execution_count": 21,
   "metadata": {
    "_cell_guid": "33174a83-6b0a-4525-ae2c-894c2753a7b2",
    "_uuid": "8290839463e5ede1665dfaf143ffb45e469b4888",
    "collapsed": true
   },
   "outputs": [
    {
     "name": "stdout",
     "output_type": "stream",
     "text": [
      "score 1 reviews most popular 2-gram / 3-gram:\n",
      "    Count Occur %          Phrase\n",
      "0  5536.0  10.59%   (taste, like)\n",
      "1  2316.0   4.43%  (waste, money)\n",
      "2  2175.0   4.16%    (could, n't)\n",
      "3  2111.0   4.04%     (n't, even)\n",
      "4  1809.0   3.46%     (n't, know)\n",
      "5  1794.0   3.43%    (would, n't)\n",
      "6  1644.0   3.15%      (n't, buy)\n",
      "score 2 reviews most popular 2-gram / 3-gram:\n",
      "    Count Occur %          Phrase\n",
      "0  3161.0  10.62%   (taste, like)\n",
      "1  1362.0   4.58%     (n't, like)\n",
      "2  1304.0   4.38%    (would, n't)\n",
      "3  1086.0   3.65%  (think, would)\n",
      "4  1064.0   3.57%      (n't, buy)\n",
      "5  1010.0   3.39%     (n't, know)\n",
      "6   996.0   3.35%    (n't, taste)\n",
      "7   945.0   3.17%    (could, n't)\n",
      "8   910.0   3.06%   (taste, good)\n",
      "score 3 reviews most popular 2-gram / 3-gram:\n",
      "    Count Occur %          Phrase\n",
      "0  3237.0   7.59%   (taste, like)\n",
      "1  1632.0   3.83%    (would, n't)\n",
      "2  1612.0   3.78%     (n't, like)\n",
      "3  1551.0   3.64%   (taste, good)\n",
      "4  1463.0   3.43%   (href=, http)\n",
      "5  1406.0    3.3%     (n't, know)\n",
      "6  1295.0   3.04%  (think, would)\n",
      "score 4 reviews most popular 2-gram / 3-gram:\n",
      "    Count Occur %          Phrase\n",
      "0  4353.0    5.4%   (taste, like)\n",
      "1  3203.0   3.97%   (taste, good)\n",
      "2  3011.0   3.73%   (href=, http)\n",
      "3  2819.0    3.5%  (pretty, good)\n",
      "4  2742.0    3.4%  (really, like)\n",
      "5  2427.0   3.01%     (n't, like)\n",
      "score 5 reviews most popular 2-gram / 3-gram:\n",
      "     Count Occur %               Phrase\n",
      "0  17499.0   4.82%  (highly, recommend)\n",
      "1  14450.0   3.98%        (taste, like)\n",
      "2  11762.0   3.24%     (grocery, store)\n",
      "3  11471.0   3.16%       (taste, great)\n"
     ]
    }
   ],
   "source": [
    "# score 1-5 reviews with all users\n",
    "index = ['Phrase', 'Count', 'Occur %']\n",
    "\n",
    "for j in range(1,6):\n",
    "    test = pd.DataFrame()\n",
    "    # easier benchmark since we have many different users here, thus different phrase\n",
    "    d = get_token_ngram(j, 0.03)\n",
    "    print('score {} reviews most popular 2-gram / 3-gram:'.format(j))\n",
    "    for i in d:\n",
    "        test = test.append(pd.Series(i, index = index), ignore_index = True)\n",
    "    test = test.sort_values('Count', ascending=False)\n",
    "    print(test)"
   ]
  },
  {
   "cell_type": "markdown",
   "metadata": {
    "_cell_guid": "8c1cad58-69da-4e0d-b6fb-83259be25759",
    "_uuid": "549ee31225e30abd609b6f7dc6e7f0e46b6e09fa"
   },
   "source": [
    "Funny that people are more likely to attach HTML links (href=) for more positive reviews (3 and 4).\n",
    "<br>\n",
    "Other than that, not much useful discoveries except positive / negative tones, since people are very different in texting style. \n",
    "<br>\n",
    "Maybe we should focus on popular single **adjective** word people used for different score. First we modify the function a bit for easier implementation:"
   ]
  },
  {
   "cell_type": "code",
   "execution_count": 22,
   "metadata": {
    "_cell_guid": "83300b5e-17fa-4aca-be29-14f97202c2be",
    "_uuid": "09ae2694002b63c623bb03bca4c17eaf24f9c571",
    "collapsed": true
   },
   "outputs": [],
   "source": [
    "def get_token_adj(score, benchmark, userid='all'):\n",
    "    \n",
    "    if userid != 'all':\n",
    "        df = odf[(odf['UserId'] == userid) & (odf['Score'] == score)]['Text']\n",
    "    else:\n",
    "        df = odf[odf['Score'] == score]['Text']\n",
    "        \n",
    "    count = len(df)\n",
    "    total_text = ' '.join(df)\n",
    "    total_text = total_text.lower()\n",
    "    stop = set(stopwords.words('english'))\n",
    "    total_text = nltk.word_tokenize(total_text)\n",
    "    total_text = [word for word in total_text if word not in stop and len(word) >= 3]\n",
    "    lemmatizer = WordNetLemmatizer()\n",
    "    total_text = [lemmatizer.lemmatize(w,'a') for w in total_text]\n",
    "    # get adjective only\n",
    "    total_text = [word for word, form in nltk.pos_tag(total_text) if form == 'JJ']\n",
    "    \n",
    "    text = nltk.Text(total_text)\n",
    "    fdist = nltk.FreqDist(text)\n",
    "    \n",
    "    # return only phrase occurs more than benchmark of his reviews\n",
    "    return sorted([(w,fdist[w],str(round(fdist[w]/count*100,2))+'%') for w in set(text) if fdist[w] >= count*benchmark], key=lambda x: -x[1])"
   ]
  },
  {
   "cell_type": "markdown",
   "metadata": {
    "_cell_guid": "0610e903-5df8-4b7c-b55c-9545e6067615",
    "_uuid": "66274784e2b763b90e3bc8688fb0770ba1dc14c3"
   },
   "source": [
    "Let's look at user A. Bennett again:"
   ]
  },
  {
   "cell_type": "code",
   "execution_count": 23,
   "metadata": {
    "_cell_guid": "feabf506-2256-4f25-980f-816023fb1e98",
    "_uuid": "43b9c581046a482e31152d40ef7d8614fe286442",
    "collapsed": true
   },
   "outputs": [
    {
     "name": "stdout",
     "output_type": "stream",
     "text": [
      "score 1 reviews most popular adjectives word:\n",
      "   Count Occur %     Phrase\n",
      "0   13.0   50.0%        dry\n",
      "1   12.0  46.15%     cheese\n",
      "2   10.0  38.46%        bad\n",
      "3   10.0  38.46%     little\n",
      "4    8.0  30.77%  expensive\n",
      "5    8.0  30.77%  delicious\n",
      "6    8.0  30.77%       hard\n",
      "7    8.0  30.77%      tasty\n",
      "8    7.0  26.92%      bread\n",
      "9    7.0  26.92%       poor\n",
      "score 2 reviews most popular adjectives word:\n",
      "   Count Occur %      Phrase\n",
      "0   10.0  58.82%       whole\n",
      "1    8.0  47.06%      cheese\n",
      "2    6.0  35.29%       wrong\n",
      "3    6.0  35.29%   delicious\n",
      "4    6.0  35.29%       awful\n",
      "5    5.0  29.41%        good\n",
      "6    5.0  29.41%       .give\n",
      "7    5.0  29.41%  particular\n",
      "score 3 reviews most popular adjectives word:\n",
      "   Count Occur %        Phrase\n",
      "0    9.0  64.29%         whole\n",
      "1    5.0  35.71%          high\n",
      "2    4.0  28.57%          good\n",
      "3    4.0  28.57%  disappointed\n",
      "4    4.0  28.57%         first\n",
      "5    4.0  28.57%         great\n",
      "score 4 reviews most popular adjectives word:\n",
      "   Count Occur %     Phrase\n",
      "0    9.0  56.25%      great\n",
      "1    8.0   50.0%  delicious\n",
      "2    5.0  31.25%  recommend\n",
      "3    5.0  31.25%     little\n",
      "4    4.0   25.0%       good\n",
      "5    4.0   25.0%       much\n",
      "6    4.0   25.0%       sure\n",
      "7    4.0   25.0%   multiple\n",
      "8    4.0   25.0%       high\n",
      "9    4.0   25.0%    regular\n",
      "score 5 reviews most popular adjectives word:\n",
      "   Count Occur %     Phrase\n",
      "0   31.0  73.81%  delicious\n",
      "1   18.0  42.86%      great\n",
      "2   13.0  30.95%      first\n",
      "3   13.0  30.95%       high\n",
      "4   12.0  28.57%      fresh\n"
     ]
    }
   ],
   "source": [
    "# score 1-5 reviews with this user\n",
    "index = ['Phrase', 'Count', 'Occur %']\n",
    "\n",
    "for j in range(1,6):\n",
    "    test = pd.DataFrame()\n",
    "    d = get_token_adj(j, 0.25, 'A2M9D9BDHONV3Y')\n",
    "    print('score {} reviews most popular adjectives word:'.format(j))\n",
    "    for i in d:\n",
    "        test = test.append(pd.Series(i, index = index), ignore_index = True)\n",
    "    test = test.sort_values('Count', ascending=False)\n",
    "    print(test)"
   ]
  },
  {
   "cell_type": "markdown",
   "metadata": {
    "_cell_guid": "d9fba032-011a-4b82-a23c-bdd8c32497da",
    "_uuid": "a46a240772c569cb4c78eb80bb37f9b65f13faf8"
   },
   "source": [
    "Obviously much more useful information here, e.g. A. Bennett hates food that are too dry and expensive\n",
    "<br>\n",
    "Let's also look at big picture:"
   ]
  },
  {
   "cell_type": "code",
   "execution_count": 24,
   "metadata": {
    "_cell_guid": "ccbedb9b-4f0f-4735-bc27-d0d95374b6d4",
    "_uuid": "83735d321f39d96314d1983f3ca754ecb7ba3d5e",
    "collapsed": true
   },
   "outputs": [
    {
     "name": "stdout",
     "output_type": "stream",
     "text": [
      "score 1 reviews most popular adjectives word:\n",
      "      Count Occur %        Phrase\n",
      "0   16185.0  30.97%          good\n",
      "1   10777.0  20.62%           bad\n",
      "2    4977.0   9.52%         great\n",
      "3    4844.0   9.27%          much\n",
      "4    4786.0   9.16%        little\n",
      "5    4774.0   9.13%           old\n",
      "6    4198.0   8.03%         first\n",
      "7    3956.0   7.57%           new\n",
      "8    3789.0   7.25%     different\n",
      "9    3717.0   7.11%          many\n",
      "10   3537.0   6.77%         small\n",
      "11   3296.0   6.31%          real\n",
      "12   3000.0   5.74%  disappointed\n",
      "13   2884.0   5.52%          sure\n",
      "14   2831.0   5.42%          free\n",
      "15   2823.0    5.4%          diet\n",
      "16   2761.0   5.28%          high\n",
      "17   2658.0   5.09%          last\n",
      "score 2 reviews most popular adjectives word:\n",
      "      Count Occur %        Phrase\n",
      "0   13519.0  45.41%          good\n",
      "1    4251.0  14.28%          much\n",
      "2    4169.0   14.0%           bad\n",
      "3    3909.0  13.13%         great\n",
      "4    3691.0   12.4%        little\n",
      "5    2847.0   9.56%         small\n",
      "6    2323.0    7.8%         first\n",
      "7    2292.0    7.7%        strong\n",
      "8    2239.0   7.52%     different\n",
      "9    2163.0   7.27%         sweet\n",
      "10   2067.0   6.94%          many\n",
      "11   2050.0   6.89%           old\n",
      "12   2006.0   6.74%           big\n",
      "13   1958.0   6.58%          hard\n",
      "14   1923.0   6.46%           hot\n",
      "15   1906.0    6.4%  disappointed\n",
      "16   1902.0   6.39%          sure\n",
      "17   1893.0   6.36%          high\n",
      "18   1766.0   5.93%         green\n",
      "19   1703.0   5.72%         whole\n",
      "20   1643.0   5.52%       healthy\n",
      "21   1608.0    5.4%           new\n",
      "22   1595.0   5.36%          weak\n",
      "23   1576.0   5.29%       organic\n",
      "24   1519.0    5.1%          real\n",
      "25   1495.0   5.02%       regular\n",
      "score 3 reviews most popular adjectives word:\n",
      "      Count Occur %     Phrase\n",
      "0   25082.0  58.82%       good\n",
      "1    7648.0  17.94%      great\n",
      "2    7367.0  17.28%     little\n",
      "3    6927.0  16.25%       much\n",
      "4    5473.0  12.84%        bad\n",
      "5    4744.0  11.13%     strong\n",
      "6    4679.0  10.97%      small\n",
      "7    4009.0    9.4%      sweet\n",
      "8    3464.0   8.12%      first\n",
      "9    3432.0   8.05%  different\n",
      "10   3288.0   7.71%       high\n",
      "11   3108.0   7.29%       nice\n",
      "12   3102.0   7.27%       sure\n",
      "13   3034.0   7.12%        big\n",
      "14   2918.0   6.84%        hot\n",
      "15   2904.0   6.81%       many\n",
      "16   2761.0   6.48%      green\n",
      "17   2664.0   6.25%    healthy\n",
      "18   2608.0   6.12%    organic\n",
      "19   2596.0   6.09%       hard\n",
      "20   2567.0   6.02%    regular\n",
      "21   2518.0   5.91%        old\n",
      "22   2516.0    5.9%      large\n",
      "23   2245.0   5.27%      whole\n",
      "24   2237.0   5.25%    natural\n",
      "25   2162.0   5.07%        dry\n",
      "score 4 reviews most popular adjectives word:\n",
      "      Count Occur %     Phrase\n",
      "0   52527.0  65.13%       good\n",
      "1   22466.0  27.85%      great\n",
      "2   16209.0   20.1%     little\n",
      "3   10517.0  13.04%       much\n",
      "4    9279.0   11.5%       nice\n",
      "5    8529.0  10.57%     strong\n",
      "6    8370.0  10.38%      small\n",
      "7    8159.0  10.12%      sweet\n",
      "8    6489.0   8.05%    healthy\n",
      "9    6151.0   7.63%       easy\n",
      "10   5969.0    7.4%        hot\n",
      "11   5961.0   7.39%       high\n",
      "12   5734.0   7.11%       many\n",
      "13   5675.0   7.04%        bad\n",
      "14   5673.0   7.03%        big\n",
      "15   5479.0   6.79%  different\n",
      "16   5424.0   6.72%      first\n",
      "17   5297.0   6.57%    organic\n",
      "18   5041.0   6.25%       sure\n",
      "19   5032.0   6.24%       free\n",
      "20   4835.0   5.99%      green\n",
      "21   4761.0    5.9%    regular\n",
      "22   4653.0   5.77%      large\n",
      "23   4572.0   5.67%       hard\n",
      "24   4497.0   5.58%        old\n",
      "25   4471.0   5.54%      tasty\n",
      "26   4462.0   5.53%      fresh\n",
      "27   4402.0   5.46%        low\n",
      "28   4324.0   5.36%      whole\n",
      "29   4322.0   5.36%  delicious\n",
      "30   4258.0   5.28%    natural\n",
      "score 5 reviews most popular adjectives word:\n",
      "       Count Occur %     Phrase\n",
      "0   151087.0  41.61%       good\n",
      "1   127588.0  35.14%      great\n",
      "2    45682.0  12.58%     little\n",
      "3    32748.0   9.02%       much\n",
      "4    32677.0    9.0%  delicious\n",
      "5    30145.0    8.3%    healthy\n",
      "6    27700.0   7.63%       many\n",
      "7    26152.0    7.2%       free\n",
      "8    25824.0   7.11%       easy\n",
      "9    25240.0   6.95%   favorite\n",
      "10   24891.0   6.85%      small\n",
      "11   24737.0   6.81%        hot\n",
      "12   23757.0   6.54%      sweet\n",
      "13   23219.0   6.39%       nice\n",
      "14   21379.0   5.89%        old\n",
      "15   21155.0   5.83%      happy\n",
      "16   20400.0   5.62%      fresh\n",
      "17   20259.0   5.58%     strong\n",
      "18   19746.0   5.44%    organic\n",
      "19   19712.0   5.43%       high\n",
      "20   19340.0   5.33%  different\n",
      "21   18859.0   5.19%      first\n",
      "22   18733.0   5.16%      local\n",
      "23   18620.0   5.13%    perfect\n",
      "24   18310.0   5.04%        big\n"
     ]
    }
   ],
   "source": [
    "# score 1-5 reviews with all users\n",
    "index = ['Phrase', 'Count', 'Occur %']\n",
    "\n",
    "for j in range(1,6):\n",
    "    test = pd.DataFrame()\n",
    "    d = get_token_adj(j, 0.05)\n",
    "    print('score {} reviews most popular adjectives word:'.format(j))\n",
    "    for i in d:\n",
    "        test = test.append(pd.Series(i, index = index), ignore_index = True)\n",
    "    test = test.sort_values('Count', ascending=False)\n",
    "    print(test)"
   ]
  },
  {
   "cell_type": "markdown",
   "metadata": {
    "_cell_guid": "b78887ad-822f-4b3a-985c-91479747ee39",
    "_uuid": "e441b552e976917b3762fe4ed17c6f1e8903d726"
   },
   "source": [
    "Appreciate any comments!\n",
    "\n",
    "Hope it is a fun read!"
   ]
  }
 ],
 "metadata": {
  "kernelspec": {
   "display_name": "Python 3",
   "language": "python",
   "name": "python3"
  },
  "language_info": {
   "codemirror_mode": {
    "name": "ipython",
    "version": 3
   },
   "file_extension": ".py",
   "mimetype": "text/x-python",
   "name": "python",
   "nbconvert_exporter": "python",
   "pygments_lexer": "ipython3",
   "version": "3.6.6"
  }
 },
 "nbformat": 4,
 "nbformat_minor": 1
}
